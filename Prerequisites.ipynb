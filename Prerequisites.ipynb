{
  "nbformat": 4,
  "nbformat_minor": 0,
  "metadata": {
    "colab": {
      "name": "Prerequisites_WebHarvesting.ipynb",
      "provenance": [],
      "authorship_tag": "ABX9TyMBvqSL6Mf2u8f3mks297pR",
      "include_colab_link": true
    },
    "kernelspec": {
      "name": "python3",
      "display_name": "Python 3"
    },
    "language_info": {
      "name": "python"
    }
  },
  "cells": [
    {
      "cell_type": "markdown",
      "metadata": {
        "id": "view-in-github",
        "colab_type": "text"
      },
      "source": [
        "<a href=\"https://colab.research.google.com/github/misupova/BSSDH-2022/blob/main/Prerequisites.ipynb\" target=\"_parent\"><img src=\"https://colab.research.google.com/assets/colab-badge.svg\" alt=\"Open In Colab\"/></a>"
      ]
    },
    {
      "cell_type": "markdown",
      "source": [
        "## Python syntax\n",
        "\n",
        "One of the most notable Python syntax difference from other programming languages is indentation. In Python, we use indentation to define code blocks, instead of using brackets. Both tabs and spaces are supported, the standard is to use 4 spaces or a tab.\n",
        "\n",
        "An example of correct Python code:\n",
        "```python\n",
        "if x > y:\n",
        "  print('x is greater than y')\n",
        "```\n",
        "\n",
        "The same example, but with incorrect indentation will result in an error:\n",
        "```python\n",
        "if x > y:\n",
        "print(\"x is greater than y\")\n",
        "```\n",
        "\n",
        "This example wouldbe also correct, if it would be written as one line:\n",
        "```python\n",
        "if x > y: print('x is greater than y')\n",
        "```\n",
        "\n",
        "You can execute these block of codes and see the results below (use the **Run cell** button in the top left corner of the cell, or **Ctrl + Enter**."
      ],
      "metadata": {
        "id": "Gm7L7u3BZwE1"
      }
    },
    {
      "cell_type": "code",
      "source": [
        "x = 5 # define variable x\n",
        "y = 3 # define variable y\n",
        "\n",
        "if x > y:\n",
        "  print('x is greater than y') # this executes correctly"
      ],
      "metadata": {
        "colab": {
          "base_uri": "https://localhost:8080/"
        },
        "id": "1qWdKPUkbz2d",
        "outputId": "782c9313-75ca-4e9b-98a8-2a9cb980d856"
      },
      "execution_count": 1,
      "outputs": [
        {
          "output_type": "stream",
          "name": "stdout",
          "text": [
            "x is greater than y\n"
          ]
        }
      ]
    },
    {
      "cell_type": "code",
      "execution_count": 2,
      "metadata": {
        "colab": {
          "base_uri": "https://localhost:8080/",
          "height": 131
        },
        "id": "AtYxkUQgZtIz",
        "outputId": "0e18fb9a-c060-4069-e69f-0d1831c78f0f"
      },
      "outputs": [
        {
          "output_type": "error",
          "ename": "IndentationError",
          "evalue": "ignored",
          "traceback": [
            "\u001b[0;36m  File \u001b[0;32m\"<ipython-input-2-d58c68c353b9>\"\u001b[0;36m, line \u001b[0;32m2\u001b[0m\n\u001b[0;31m    print(\"x is greater than y\") # this returns an indentation error\u001b[0m\n\u001b[0m        ^\u001b[0m\n\u001b[0;31mIndentationError\u001b[0m\u001b[0;31m:\u001b[0m expected an indented block\n"
          ]
        }
      ],
      "source": [
        "if x > y:\n",
        "print(\"x is greater than y\") # this returns an indentation error"
      ]
    },
    {
      "cell_type": "code",
      "source": [
        "if x > y: print('x is greater than y') # this executes correctly as well"
      ],
      "metadata": {
        "colab": {
          "base_uri": "https://localhost:8080/"
        },
        "id": "WI-m_MQzcRgf",
        "outputId": "ac3631c9-0bed-471d-808b-5bb1e3749007"
      },
      "execution_count": 3,
      "outputs": [
        {
          "output_type": "stream",
          "name": "stdout",
          "text": [
            "x is greater than y\n"
          ]
        }
      ]
    },
    {
      "cell_type": "markdown",
      "source": [
        "Python also has the commenting capability. Comments are lines in code that are not executed by the program. \n",
        "\n",
        "They are used to leave notes for other programmers or to temporarily disable lines of code. \n",
        "\n",
        "In Python, comments are created by placing a **#** symbol at the beginning of a line."
      ],
      "metadata": {
        "id": "nmXMXwdFcZwZ"
      }
    },
    {
      "cell_type": "markdown",
      "source": [
        "## Python Lists\n",
        "\n",
        "Lists are a data type in Python. Lists are similar to arrays in other programming languages. Lists can contain items of different types. Lists can be created by putting values inside square brackets.\n",
        "\n",
        "```python\n",
        "# Create a list\n",
        "list1 = [1, 2, 3, 4]\n",
        "```\n",
        "\n",
        "```python\n",
        "# Access elements of a list\n",
        "print(list1[0])  # 1\n",
        "```\n",
        "\n",
        "Check it out by executing the code block below:"
      ],
      "metadata": {
        "id": "eLCB5Dc4cs9p"
      }
    },
    {
      "cell_type": "code",
      "source": [
        "# Create a list\n",
        "list1 = [1, 2, 3, 4]\n",
        "print(list1[0])"
      ],
      "metadata": {
        "colab": {
          "base_uri": "https://localhost:8080/"
        },
        "id": "-5cIvXzudIJ3",
        "outputId": "4f63cc97-3470-493c-e8cb-04a5f7ef4bd2"
      },
      "execution_count": 4,
      "outputs": [
        {
          "output_type": "stream",
          "name": "stdout",
          "text": [
            "1\n"
          ]
        }
      ]
    },
    {
      "cell_type": "markdown",
      "source": [
        "## Python Dictionaries\n",
        "\n",
        "A Python dictionary is a data type similar to arrays, but works with keys and values instead of indexes.  Each value stored in a dictionary can be accessed using a key, which can be either a number or a string.  Dictionaries are enclosed by curly braces {} and values can be assigned and accessed using square braces [].\n",
        "\n",
        "```python\n",
        "# Create a dictionary\n",
        "dict1 = { \"name\": \"John\", \"age\": 30, \"city\": \"Los Angeles\" }\n",
        "\n",
        "# Access data\n",
        "print(dict1[\"city\"])  # Los Angeles\n",
        "\n",
        "```\n",
        "\n",
        "The example code block:"
      ],
      "metadata": {
        "id": "BLGo_olgdLe6"
      }
    },
    {
      "cell_type": "code",
      "source": [
        "# Create a dictionary\n",
        "dict1 = { \"name\": \"John\", \"age\": 30, \"city\": \"Los Angeles\" }\n",
        "\n",
        "# Access data\n",
        "print(dict1[\"city\"])  # Los Angeles"
      ],
      "metadata": {
        "colab": {
          "base_uri": "https://localhost:8080/"
        },
        "id": "ZIeJMnsIdiL6",
        "outputId": "5231100b-1b6d-4d2a-f811-876d5816a524"
      },
      "execution_count": 5,
      "outputs": [
        {
          "output_type": "stream",
          "name": "stdout",
          "text": [
            "Los Angeles\n"
          ]
        }
      ]
    },
    {
      "cell_type": "markdown",
      "source": [
        "## Python If ... Else\n",
        "\n",
        "Python supports the usual logical conditions from mathematics:\n",
        "\n",
        "> **Equals:** a == b <br>\n",
        "> **Not Equals:** a != b <br>\n",
        "> **Less than:** a < b <br>\n",
        "> **Less than or equal to:** a <= b <br>\n",
        "> **Greater than:** a > b <br>\n",
        "> **Greater than or equal to:** a >= b <br>\n",
        "\n",
        "These conditions can be used in several ways, most commonly in \"if ... else\" statements and loops.\n",
        "\n",
        "An \"if ... else\" statement is written by using the if keyword (pay attention to indentation as well):\n",
        "\n",
        "```python\n",
        "# If statement\n",
        "if x > y:\n",
        "  print(\"x is greater than y!\")\n",
        "\n",
        "# If ... Else statement\n",
        "if x > y:\n",
        "  print(\"x is greater than y!\")\n",
        "else:\n",
        "  print(\"x is not greater than y.\")\n",
        "\n",
        "# Else if statement\n",
        "if x > y:\n",
        "  print(\"x is greater than y!\")\n",
        "elif x == y:\n",
        "  print(\"x is equal to y!\")\n",
        "else:\n",
        "  print(\"x is not greater than y.\")\n",
        "\n",
        "```\n",
        "\n",
        "You can also execute these code blocks and see the results. Try to experiment with compared numbers as well."
      ],
      "metadata": {
        "id": "8yXhLYtfdtCO"
      }
    },
    {
      "cell_type": "code",
      "source": [
        "x = 5 \n",
        "y = 2\n",
        "\n",
        "if x > y:\n",
        "  print(\"x is greater than y!\")\n",
        "\n",
        "if x > y:\n",
        "  print(\"x is greater than y!\")\n",
        "else:\n",
        "  print(\"x is not greater than y.\")\n",
        "\n",
        "if x > y:\n",
        "  print(\"x is greater than y!\")\n",
        "elif x == y:\n",
        "  print(\"x is equal to y!\")\n",
        "else:\n",
        "  print(\"x is not greater than y.\")"
      ],
      "metadata": {
        "colab": {
          "base_uri": "https://localhost:8080/"
        },
        "id": "Hu_5ppjKeQ5o",
        "outputId": "6a61ca89-6742-42a8-9e75-03f8b624a4bb"
      },
      "execution_count": 6,
      "outputs": [
        {
          "output_type": "stream",
          "name": "stdout",
          "text": [
            "x is greater than y!\n",
            "x is greater than y!\n",
            "x is greater than y!\n"
          ]
        }
      ]
    },
    {
      "cell_type": "markdown",
      "source": [
        "## Python For Loops\n",
        "\n",
        "A for loop is used for iterating over a sequence (that is either a list, a tuple, a dictionary, a set, or a string).\n",
        "\n",
        "With the for loop we can execute a set of statements, once for each item in a list, tuple, set etc.\n",
        "\n",
        "```python\n",
        "# Print each fruit in a fruit list:\n",
        "fruits = [\"apple\", \"banana\", \"cherry\"]\n",
        "for x in fruits:\n",
        "  print(x)\n",
        "```\n",
        "\n",
        "Try this out:"
      ],
      "metadata": {
        "id": "wNfWtzQzeY6j"
      }
    },
    {
      "cell_type": "code",
      "source": [
        "fruits = [\"apple\", \"banana\", \"cherry\"]\n",
        "for x in fruits:\n",
        "  print(x)"
      ],
      "metadata": {
        "colab": {
          "base_uri": "https://localhost:8080/"
        },
        "id": "wrOYK0SaelxF",
        "outputId": "7eb4d4e3-616e-49d9-bc55-c9b9bbc3e955"
      },
      "execution_count": 7,
      "outputs": [
        {
          "output_type": "stream",
          "name": "stdout",
          "text": [
            "apple\n",
            "banana\n",
            "cherry\n"
          ]
        }
      ]
    }
  ]
}